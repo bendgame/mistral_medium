{
 "cells": [
  {
   "cell_type": "code",
   "execution_count": null,
   "id": "2dbc73ae",
   "metadata": {},
   "outputs": [],
   "source": [
    "import transformers\n",
    "import torch\n",
    "import sqlite3\n",
    "import re #regex\n",
    "import ast #abstract syntax trees"
   ]
  },
  {
   "cell_type": "code",
   "execution_count": null,
   "id": "f7eedf6e",
   "metadata": {},
   "outputs": [],
   "source": [
    "local_path = r'C:\\Users\\MTGro\\Desktop\\llm_models\\Mistral-7B-Instruct-v0.1'\n",
    "\n",
    "device = 'cuda'\n",
    "\n",
    "tokenizer = transformers.AutoTokenizer.from_pretrained(local_path)\n",
    "\n",
    "model = transformers.AutoModelForCausalLM.from_pretrained(local_path\n",
    "                                                          , local_files_only = True\n",
    "                                                          ,  device_map=device\n",
    "                                                          , torch_dtype=torch.float16)"
   ]
  },
  {
   "cell_type": "code",
   "execution_count": null,
   "id": "07029503",
   "metadata": {},
   "outputs": [],
   "source": [
    "user_content= '''\n",
    "You are a creative writer working on a comedy novel.\n",
    "\n",
    "In the style of Oscar Wilde, write the first paragraph of\n",
    "a story where a guy accidentally meets the love of his life.\n",
    "\n",
    "'''"
   ]
  },
  {
   "cell_type": "code",
   "execution_count": null,
   "id": "437ecf70",
   "metadata": {},
   "outputs": [],
   "source": [
    "messages = [{\"user\", \"content\": user_content}]"
   ]
  },
  {
   "cell_type": "code",
   "execution_count": null,
   "id": "c4ec4b61",
   "metadata": {},
   "outputs": [],
   "source": [
    "model_inputs = tokenizer.apply_chat_template(messages, return_tensors=\"pt\").to(device)\n",
    "\n",
    "generated_ids = model.generate(model_inputs, max_new_tokens=1000, do_sample=True)\n",
    "\n",
    "decoded = tokenizer.batch_decode(generated_ids)\n",
    "\n",
    "print(decoded[0])"
   ]
  },
  {
   "cell_type": "code",
   "execution_count": null,
   "id": "d616f387",
   "metadata": {},
   "outputs": [],
   "source": [
    "def extract_text_after_inst(text):\n",
    "    # Use regular expression to find text after [/INST]\n",
    "    match = re.search(r'\\[/INST\\](.*)', text, re.DOTALL)\n",
    "    \n",
    "    if match:\n",
    "        # Extract and return the text after [/INST]\n",
    "        result = match.group(1).strip()\n",
    "        return result\n",
    "    else:\n",
    "        # Return None if [/INST] is not found\n",
    "        return None\n",
    "\n",
    "output =  extract_text_after_inst(decoded[0]).replace('</s>', '')"
   ]
  },
  {
   "cell_type": "code",
   "execution_count": null,
   "id": "08610671",
   "metadata": {},
   "outputs": [],
   "source": [
    "conn = sqlite3.connect('story_prompts2.sqlite')\n",
    "c = conn.cursor()\n",
    "create_table = '''\n",
    "CREATE TABLE \"chat\" (\n",
    " \"ID\" INTEGER NOT NULL UNIQUE,\n",
    " \"prompt\" TEXT NOT NULL,\n",
    " \"output\" TEXT,\n",
    " PRIMARY KEY(\"ID\" AUTOINCREMENT)\n",
    ");\n",
    "\n",
    "'''\n",
    "c.execute(create_table)\n",
    "conn.commit()\n",
    "conn.close()"
   ]
  },
  {
   "cell_type": "code",
   "execution_count": null,
   "id": "6c6b309d",
   "metadata": {},
   "outputs": [],
   "source": [
    "def chat(user_content):\n",
    "    conn = sqlite3.connect('story_prompts2.sqlite')\n",
    "    c = conn.cursor()\n",
    "    messages = [\n",
    "        {\"role\": \"user\", \"content\":user_content}\n",
    "  \n",
    "    ]\n",
    "\n",
    "    model_inputs= tokenizer.apply_chat_template(messages, return_tensors=\"pt\").to(device)\n",
    "     \n",
    "    generated_ids = model.generate(model_inputs, max_new_tokens=4000, do_sample=False)\n",
    "    decoded = tokenizer.batch_decode(generated_ids)\n",
    "    output =  extract_text_after_inst(decoded[0]).replace('</s>', '').replace(\"'\", \"''\")\n",
    "    #print(output)\n",
    "    user_content = user_content.replace(\"'\", \"''\")\n",
    "    c.execute( \n",
    "      f'''INSERT INTO chat (prompt, output) VALUES ('{user_content}', '{output}')''') \n",
    "    conn.commit()\n",
    "    conn.close()\n",
    "    #print(decoded[0])\n",
    "    return print(extract_text_after_inst(decoded[0]))"
   ]
  },
  {
   "cell_type": "code",
   "execution_count": null,
   "id": "266770c2",
   "metadata": {},
   "outputs": [],
   "source": []
  }
 ],
 "metadata": {
  "kernelspec": {
   "display_name": "Python 3 (ipykernel)",
   "language": "python",
   "name": "python3"
  },
  "language_info": {
   "codemirror_mode": {
    "name": "ipython",
    "version": 3
   },
   "file_extension": ".py",
   "mimetype": "text/x-python",
   "name": "python",
   "nbconvert_exporter": "python",
   "pygments_lexer": "ipython3",
   "version": "3.10.13"
  }
 },
 "nbformat": 4,
 "nbformat_minor": 5
}
